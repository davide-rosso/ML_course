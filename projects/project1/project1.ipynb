{
 "cells": [
  {
   "cell_type": "code",
   "execution_count": null,
   "metadata": {
    "id": "hE0xtnAn4pja"
   },
   "outputs": [],
   "source": [
    "# Useful starting lines\n",
    "%matplotlib inline\n",
    "import numpy as np\n",
    "import matplotlib.pyplot as plt\n",
    "%load_ext autoreload\n",
    "%autoreload 2"
   ]
  },
  {
   "cell_type": "markdown",
   "metadata": {
    "id": "JJIVugOC4pje"
   },
   "source": [
    "## Load the training data into feature matrix, class labels, and event ids:"
   ]
  },
  {
   "cell_type": "code",
   "execution_count": null,
   "metadata": {
    "colab": {
     "base_uri": "https://localhost:8080/",
     "height": 34
    },
    "executionInfo": {
     "elapsed": 10678,
     "status": "ok",
     "timestamp": 1601973591771,
     "user": {
      "displayName": "Alon Tchelet",
      "photoUrl": "https://lh3.googleusercontent.com/a-/AOh14GhKaDmtI9nA4zqyMXa04lK_6pZf6vmIUrnSmL8kAvM=s64",
      "userId": "00312415896377923645"
     },
     "user_tz": -120
    },
    "id": "6ywLVx4a4pje",
    "outputId": "f38e3063-4ec9-40fd-9d1d-9b629f14097f"
   },
   "outputs": [],
   "source": [
    "# %cd \"/content/drive/My Drive/Uni/EPFL/MachineLearning/ML_course/projects/project1/scripts/\"\n",
    "from proj1_helpers import *\n",
    "DATA_TRAIN_PATH = '../data/train.csv' \n",
    "y, tX, ids = load_csv_data(DATA_TRAIN_PATH)"
   ]
  },
  {
   "cell_type": "code",
   "execution_count": null,
   "metadata": {},
   "outputs": [],
   "source": [
    "# remove samples with error values\n",
    "idx_c = np.all(tX!=-999, axis=1)\n",
    "y_c = y[idx_c]\n",
    "tX_c = tX[idx_c]\n",
    "# regularize\n",
    "mean = np.mean(tX_c, axis=0)\n",
    "std = np.std(tX_c, axis=0)\n",
    "tX_c = (tX_c-mean)/std"
   ]
  },
  {
   "cell_type": "code",
   "execution_count": null,
   "metadata": {},
   "outputs": [],
   "source": [
    "print(\"Overall: s: \",np.sum(y==1),\", b: \",np.sum(y==-1),\" ,total:\",len(y))\n",
    "print(\"NoErrors: s: \",np.sum(y_c==1),\", b: \",np.sum(y_c==-1),\" ,total:\",len(y_c))\n",
    "for n in range(tX_c.shape[1]):\n",
    "    plt.figure(figsize=(20,4))\n",
    "    plt.subplot(131)\n",
    "    plt.hist([tX_c[y_c==1,n],tX_c[y_c==-1,n]], 20, density=True, histtype='bar', stacked=True)\n",
    "    plt.legend(['s','b'])\n",
    "    plt.title('Feature '+str(n))\n",
    "    plt.subplot(132)\n",
    "    plt.title('s histogram feature '+str(n))\n",
    "    plt.hist(tX_c[y_c==1,n], 20, density=True, histtype='bar', stacked=True)\n",
    "    plt.subplot(133)\n",
    "    plt.title('b histogram feature '+str(n))\n",
    "    plt.hist(tX_c[y_c==-1,n], 20, density=True, histtype='bar', stacked=True)    \n",
    "    plt.show()"
   ]
  },
  {
   "cell_type": "markdown",
   "metadata": {
    "id": "z5iFp9zV4pjg"
   },
   "source": [
    "## Do your thing crazy machine learning thing here :) ..."
   ]
  },
  {
   "cell_type": "code",
   "execution_count": null,
   "metadata": {
    "id": "ql2-oUuA4ynz"
   },
   "outputs": [],
   "source": []
  },
  {
   "cell_type": "markdown",
   "metadata": {
    "id": "KkMBGpay4pjh"
   },
   "source": [
    "## Generate predictions and save ouput in csv format for submission:"
   ]
  },
  {
   "cell_type": "code",
   "execution_count": null,
   "metadata": {
    "id": "i--OcRst4pjh"
   },
   "outputs": [],
   "source": [
    "DATA_TEST_PATH = '' # TODO: download train data and supply path here \n",
    "_, tX_test, ids_test = load_csv_data(DATA_TEST_PATH)"
   ]
  },
  {
   "cell_type": "code",
   "execution_count": null,
   "metadata": {
    "id": "grQDhIJ84pjk"
   },
   "outputs": [],
   "source": [
    "OUTPUT_PATH = '' # TODO: fill in desired name of output file for submission\n",
    "y_pred = predict_labels(weights, tX_test)\n",
    "create_csv_submission(ids_test, y_pred, OUTPUT_PATH)"
   ]
  },
  {
   "cell_type": "code",
   "execution_count": null,
   "metadata": {
    "id": "1NWcfLLI4pjo"
   },
   "outputs": [],
   "source": []
  }
 ],
 "metadata": {
  "anaconda-cloud": {},
  "colab": {
   "collapsed_sections": [],
   "name": "project1.ipynb",
   "provenance": []
  },
  "kernelspec": {
   "display_name": "Python 3",
   "language": "python",
   "name": "python3"
  },
  "language_info": {
   "codemirror_mode": {
    "name": "ipython",
    "version": 3
   },
   "file_extension": ".py",
   "mimetype": "text/x-python",
   "name": "python",
   "nbconvert_exporter": "python",
   "pygments_lexer": "ipython3",
   "version": "3.8.5"
  }
 },
 "nbformat": 4,
 "nbformat_minor": 4
}
